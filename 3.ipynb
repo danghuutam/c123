{
 "cells": [
  {
   "cell_type": "code",
   "execution_count": 1,
   "metadata": {},
   "outputs": [
    {
     "name": "stdout",
     "output_type": "stream",
     "text": [
      "Phiên bản Numpy hiện tại là: 1.24.3\n",
      "Cấu hình xây dựng của Numpy là:\n",
      "blas_armpl_info:\n",
      "  NOT AVAILABLE\n",
      "blas_mkl_info:\n",
      "    libraries = ['mkl_rt']\n",
      "    library_dirs = ['C:/Users/user/anaconda3\\\\Library\\\\lib']\n",
      "    define_macros = [('SCIPY_MKL_H', None), ('HAVE_CBLAS', None)]\n",
      "    include_dirs = ['C:/Users/user/anaconda3\\\\Library\\\\include']\n",
      "blas_opt_info:\n",
      "    libraries = ['mkl_rt']\n",
      "    library_dirs = ['C:/Users/user/anaconda3\\\\Library\\\\lib']\n",
      "    define_macros = [('SCIPY_MKL_H', None), ('HAVE_CBLAS', None)]\n",
      "    include_dirs = ['C:/Users/user/anaconda3\\\\Library\\\\include']\n",
      "lapack_armpl_info:\n",
      "  NOT AVAILABLE\n",
      "lapack_mkl_info:\n",
      "    libraries = ['mkl_rt']\n",
      "    library_dirs = ['C:/Users/user/anaconda3\\\\Library\\\\lib']\n",
      "    define_macros = [('SCIPY_MKL_H', None), ('HAVE_CBLAS', None)]\n",
      "    include_dirs = ['C:/Users/user/anaconda3\\\\Library\\\\include']\n",
      "lapack_opt_info:\n",
      "    libraries = ['mkl_rt']\n",
      "    library_dirs = ['C:/Users/user/anaconda3\\\\Library\\\\lib']\n",
      "    define_macros = [('SCIPY_MKL_H', None), ('HAVE_CBLAS', None)]\n",
      "    include_dirs = ['C:/Users/user/anaconda3\\\\Library\\\\include']\n",
      "Supported SIMD extensions in this NumPy install:\n",
      "    baseline = SSE,SSE2,SSE3\n",
      "    found = SSSE3,SSE41,POPCNT,SSE42,AVX,F16C,FMA3,AVX2\n",
      "    not found = AVX512F,AVX512CD,AVX512_SKX,AVX512_CLX,AVX512_CNL,AVX512_ICL\n"
     ]
    }
   ],
   "source": [
    "# cau3.1\n",
    "#Nhập thư viện Numpy\n",
    "import numpy as np\n",
    "\n",
    "# In phiên bản Numpy hiện tại\n",
    "print(\"Phiên bản Numpy hiện tại là:\", np.__version__)\n",
    "\n",
    "# In cấu hình xây dựng của Numpy\n",
    "print(\"Cấu hình xây dựng của Numpy là:\")\n",
    "np.show_config()\n"
   ]
  },
  {
   "cell_type": "code",
   "execution_count": 2,
   "metadata": {},
   "outputs": [
    {
     "name": "stdout",
     "output_type": "stream",
     "text": [
      "Các phần tử có trong arr là: [0 1 2 3 4 5 6 7 8 9]\n",
      "Kiểu dữ liệu của arr là: int32\n",
      "Kích thước của arr là: (10,)\n",
      "arr_odd là: [1 3 5 7 9]\n",
      "arr_even là: [0 2 4 6 8]\n",
      "arr_update_1 là: [  0 100   2 100   4 100   6 100   8 100]\n"
     ]
    }
   ],
   "source": [
    "#cau3.2\n",
    "# Nhập thư viện Numpy\n",
    "import numpy as np\n",
    "\n",
    "# Câu 1: Tạo numpy array arr có giá trị từ 0-9\n",
    "arr = np.arange(10)\n",
    "\n",
    "# Hiển thị các phần tử có trong arr\n",
    "print(\"Các phần tử có trong arr là:\", arr)\n",
    "\n",
    "# Xem kiểu dữ liệu và kích thước của arr\n",
    "print(\"Kiểu dữ liệu của arr là:\", arr.dtype)\n",
    "print(\"Kích thước của arr là:\", arr.shape)\n",
    "\n",
    "# Câu 2: Từ array arr ở câu 1 => tạo arr_odd và arr_even\n",
    "arr_odd = arr[arr % 2 == 1] # Lọc các phần tử lẻ\n",
    "arr_even = arr[arr % 2 == 0] # Lọc các phần tử chẵn\n",
    "\n",
    "# Hiển thị arr_odd và arr_even\n",
    "print(\"arr_odd là:\", arr_odd)\n",
    "print(\"arr_even là:\", arr_even)\n",
    "\n",
    "# Câu 3: Từ array arr ở câu 1 => tạo arr_update_1 với các phần tử chẵn giữ nguyên, các phần tử lẻ thay bằng 100\n",
    "arr_update_1 = arr.copy() # Sao chép arr\n",
    "arr_update_1[arr_update_1 % 2 == 1] = 100 # Thay các phần tử lẻ bằng 100\n",
    "\n",
    "# Hiển thị arr_update_1\n",
    "print(\"arr_update_1 là:\", arr_update_1)\n"
   ]
  },
  {
   "cell_type": "code",
   "execution_count": 3,
   "metadata": {},
   "outputs": [
    {
     "name": "stdout",
     "output_type": "stream",
     "text": [
      "arr_c là: [2 4]\n",
      "arr_d là: [1 3 5 6]\n",
      "arr_f là: [ 6  9 10  8  6]\n"
     ]
    }
   ],
   "source": [
    "#cau3.3\n",
    "# Nhập thư viện Numpy\n",
    "import numpy as np\n",
    "\n",
    "# Câu 1: Tạo array arr_c chỉ lấy duy nhất các phần tử xuất hiện ở cả arr_a và arr_b\n",
    "arr_a = np.array([1, 2, 3, 2, 3, 4, 3, 4, 5, 6])\n",
    "arr_b = np.array([7, 2, 10, 2, 7, 4, 9, 4, 9, 8])\n",
    "\n",
    "# Sử dụng hàm np.intersect1d để lấy giao của hai array\n",
    "arr_c = np.intersect1d(arr_a, arr_b)\n",
    "\n",
    "# Hiển thị arr_c\n",
    "print(\"arr_c là:\", arr_c)\n",
    "\n",
    "# Câu 2: Từ arr_a và arr_b ở câu 1 => Tạo arr_d chứa các phần tử chỉ xuất hiện dot sigma arr_a\n",
    "# Sử dụng hàm np.setdiff1d để lấy hiệu của hai array\n",
    "arr_d = np.setdiff1d(arr_a, arr_b)\n",
    "\n",
    "# Hiển thị arr_d\n",
    "print(\"arr_d là:\", arr_d)\n",
    "\n",
    "# Câu 3: Cho rr_e=np. array([2, 6, 1, 9, 10, 3, 27, 8, 6, 25, 16]) , hãy tạo arr_f chỉ chứa các phần tử có giá trị từ 5 đến 10 của arr_e\n",
    "arr_e = np.array([2, 6, 1, 9, 10, 3, 27, 8, 6, 25, 16])\n",
    "\n",
    "# Sử dụng điều kiện lọc để lấy các phần tử thỏa mãn\n",
    "arr_f = arr_e[(arr_e >= 5) & (arr_e <= 10)]\n",
    "\n",
    "# Hiển thị arr_f\n",
    "print(\"arr_f là:\", arr_f)\n"
   ]
  },
  {
   "cell_type": "code",
   "execution_count": 4,
   "metadata": {},
   "outputs": [
    {
     "name": "stdout",
     "output_type": "stream",
     "text": [
      "arr_zeros là: [0. 0. 0. 0. 1. 0. 0. 0. 0. 0.]\n",
      "arr_h_reverse là: [24 23 22 21 20 19 18 17 16 15 14 13 12 11 10]\n",
      "arr_1 là: [1 2 8 2 1 3 5]\n",
      "arr_1 là: [ 1  2  8  2  1  3  5 10 20]\n",
      "arr_1 là: [  1   2   8   2   1 100   3   5  10  20]\n",
      "arr_1 là: [  2   1 100   3   5  10  20]\n"
     ]
    }
   ],
   "source": [
    "#cau3.4\n",
    "# Nhập thư viện Numpy\n",
    "import numpy as np\n",
    "\n",
    "# Câu 1: Tạo arr_zeros có 10 phần tử 0, cập nhật phần tử ở vị trí thứ 5 là 1\n",
    "arr_zeros = np.zeros(10) # Tạo array có 10 phần tử 0\n",
    "arr_zeros[4] = 1 # Cập nhật phần tử ở vị trí thứ 5 là 1\n",
    "\n",
    "# Hiển thị arr_zeros\n",
    "print(\"arr_zeros là:\", arr_zeros)\n",
    "\n",
    "# Câu 2: Tạo arr_h có giá trị từ 10 đến 24. In danh sách các phần tử theo tử tự đảo ngược của arr_h\n",
    "arr_h = np.arange(10, 25) # Tạo array có giá trị từ 10 đến 24\n",
    "\n",
    "# Sử dụng hàm np.flip để đảo ngược array\n",
    "arr_h_reverse = np.flip(arr_h)\n",
    "\n",
    "# Hiển thị arr_h_reverse\n",
    "print(\"arr_h_reverse là:\", arr_h_reverse)\n",
    "\n",
    "# Câu 3: Cho k=np. array([1, 2, 0, 8, 2, 0, 1, 3, 0, 5, 0]) , tạo arr_1 từ arr_k với các phần tử khác 0\n",
    "arr_k = np.array([1, 2, 0, 8, 2, 0, 1, 3, 0, 5, 0])\n",
    "\n",
    "# Sử dụng điều kiện lọc để lấy các phần tử khác 0\n",
    "arr_1 = arr_k[arr_k != 0]\n",
    "\n",
    "# Hiển thị arr_1\n",
    "print(\"arr_1 là:\", arr_1)\n",
    "\n",
    "# Câu 4: Từ arr_1 của câu 3, thêm 2 phần tử có giá trị là 10 và 20 vào cuối array\n",
    "# Sử dụng hàm np.append để thêm các phần tử vào array\n",
    "arr_1 = np.append(arr_1, [10, 20])\n",
    "\n",
    "# Hiển thị arr_1\n",
    "print(\"arr_1 là:\", arr_1)\n",
    "\n",
    "# Câu 5: Từ array của câu 4, thêm phần tử có giá trị 100 vào vị trí có index = 5\n",
    "# Sử dụng hàm np.insert để chèn phần tử vào array\n",
    "arr_1 = np.insert(arr_1, 5, 100)\n",
    "\n",
    "# Hiển thị arr_1\n",
    "print(\"arr_1 là:\", arr_1)\n",
    "\n",
    "# Câu 6: Từ array của câu 5, xóa các phần tử tại vị trí có index = 0, 1, 2\n",
    "# Sử dụng hàm np.delete để xóa các phần tử khỏi array\n",
    "arr_1 = np.delete(arr_1, [0, 1, 2])\n",
    "\n",
    "# Hiển thị arr_1\n",
    "print(\"arr_1 là:\", arr_1)\n"
   ]
  }
 ],
 "metadata": {
  "kernelspec": {
   "display_name": "base",
   "language": "python",
   "name": "python3"
  },
  "language_info": {
   "codemirror_mode": {
    "name": "ipython",
    "version": 3
   },
   "file_extension": ".py",
   "mimetype": "text/x-python",
   "name": "python",
   "nbconvert_exporter": "python",
   "pygments_lexer": "ipython3",
   "version": "3.11.5"
  }
 },
 "nbformat": 4,
 "nbformat_minor": 2
}
