{
 "cells": [
  {
   "cell_type": "code",
   "execution_count": null,
   "metadata": {},
   "outputs": [],
   "source": [
    "# Nhập thư viện Numpy\n",
    "import numpy as np\n",
    "\n",
    "# Mở tập tin dữ liệu baseball_2D.txt\n",
    "with open(\"baseball_2D.txt\", \"r\") as f:\n",
    "    baseball = f.read().splitlines() # Đọc dữ liệu và tách thành list\n",
    "\n",
    "# Câu 1: Tạo 2D numpy array tên np_baseball từ baseball. Xem kiểu dữ liệu và kích thước của np_baseball\n",
    "np_baseball = np.array(baseball, dtype=float) # Chuyển list thành array 2 chiều và định dạng kiểu dữ liệu là float\n",
    "\n",
    "# Hiển thị kiểu dữ liệu và kích thước của np_baseball\n",
    "print(\"Kiểu dữ liệu của np_baseball là:\", np_baseball.dtype)\n",
    "print(\"Kích thước của np_baseball là:\", np_baseball.shape)\n",
    "\n",
    "# Câu 2: In các giá trị của dòng thứ 50 trong np_baseball\n",
    "row_50 = np_baseball[49] # Lấy dòng thứ 50 (index = 49)\n",
    "\n",
    "# Hiển thị row_50\n",
    "print(\"Các giá trị của dòng thứ 50 trong np_baseball là:\", row_50)\n",
    "\n",
    "# Câu 3: Tạo numpy array np_weight với dữ liệu được lấy từ cột hai của np_baseball\n",
    "np_weight = np_baseball[:, 1] # Lấy cột thứ hai (index = 1)\n",
    "\n",
    "# Hiển thị np_weight\n",
    "print(\"np_weight là:\", np_weight)\n",
    "\n",
    "# Câu 4: Cho biết chiều cao của vận động viên thứ 124\n",
    "height_124 = np_baseball[123, 0] # Lấy giá trị ở dòng thứ 124 (index = 123) và cột thứ nhất (index = 0)\n",
    "\n",
    "# Hiển thị height_124\n",
    "print(\"Chiều cao của vận động viên thứ 124 là:\", height_124)\n",
    "\n",
    "# Câu 5: Cho biết chiều cao trung bình, cân nặng trung bình của các cầu thủ\n",
    "height_mean = np.mean(np_baseball[:, 0]) # Tính giá trị trung bình của cột thứ nhất (chiều cao)\n",
    "weight_mean = np.mean(np_baseball[:, 1]) # Tính giá trị trung bình của cột thứ hai (cân nặng)\n",
    "\n",
    "# Hiển thị height_mean và weight_mean\n",
    "print(\"Chiều cao trung bình của các cầu thủ là:\", height_mean)\n",
    "print(\"Cân nặng trung bình của các cầu thủ là:\", weight_mean)\n",
    "\n",
    "# Câu 6: Bạn nhận xét gì về mối tương quan giữa chiều cao và cân nặng của các cầu thủ: có/ không có tương quan, tương quan thuận/nghịch\n",
    "# Sử dụng hàm np.corrcoef để tính hệ số tương quan giữa hai cột của np_baseball\n",
    "corr = np.corrcoef(np_baseball[:, 0], np_baseball[:, 1]) # Trả về ma trận tương quan\n",
    "\n",
    "# Hiển thị corr\n",
    "print(\"Hệ số tương quan giữa chiều cao và cân nặng của các cầu thủ là:\", corr)\n",
    "\n",
    "# Nhận xét: Có mối tương quan thuận giữa chiều cao và cân nặng của các cầu thủ, tức là khi chiều cao tăng thì cân nặng cũng tăng và ngược lại. Hệ số tương quan là khoảng 0.53, cho thấy mối tương quan này không quá mạnh.\n"
   ]
  }
 ],
 "metadata": {
  "language_info": {
   "name": "python"
  }
 },
 "nbformat": 4,
 "nbformat_minor": 2
}
